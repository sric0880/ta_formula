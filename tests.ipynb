{
 "cells": [
  {
   "cell_type": "code",
   "execution_count": 1,
   "metadata": {},
   "outputs": [
    {
     "name": "stdout",
     "output_type": "stream",
     "text": [
      "\n",
      "# THIS IS AUTO GENERATED FILE, DO NOT MODIFY THIS FILE\n",
      "\n",
      "#cython: language_level=3str\n",
      "cimport numpy as np\n",
      "cimport ta_formula._indicators as ta\n",
      "\n",
      "def calculate(np.ndarray CLOSE, np.ndarray HIGH, np.ndarray LOW):\n",
      "    return {\n",
      "        'open_long_condition1': ta.kup(ta.SMA(CLOSE, 250),-1),\n",
      "        'open_short_condition1': ta.kdown(ta.SMA(CLOSE, 250),-1),\n",
      "        'open_long_condition2': ta.stream_SLOW_KD(HIGH, LOW, CLOSE, 69, 3)[0] <= 10,\n",
      "        'open_short_condition2': ta.stream_SLOW_KD(HIGH, LOW, CLOSE, 69, 3)[0] >= 90,\n",
      "        'close_long': ta.stream_SLOW_KD(HIGH, LOW, CLOSE, 69, 3)[0] >= 90,\n",
      "        'close_short': ta.stream_SLOW_KD(HIGH, LOW, CLOSE, 69, 3)[0] <= 10,\n",
      "    }\n",
      "\n",
      "\n"
     ]
    }
   ],
   "source": [
    "# -*- coding: utf-8 -*-\n",
    "from ta_formula.strategy import Strategy\n",
    "from test_data import test_data\n",
    "\n",
    "strategy = Strategy('test_strategy.pyx', {}, [\"open\", \"close\", \"CLOSE[-1]\"], [[test_data]])\n",
    "print(strategy)"
   ]
  },
  {
   "cell_type": "code",
   "execution_count": 3,
   "metadata": {},
   "outputs": [
    {
     "data": {
      "text/plain": [
       "{'open_long_condition1': True,\n",
       " 'open_short_condition1': False,\n",
       " 'open_long_condition2': False,\n",
       " 'open_short_condition2': False,\n",
       " 'close_long': False,\n",
       " 'close_short': False}"
      ]
     },
     "execution_count": 3,
     "metadata": {},
     "output_type": "execute_result"
    }
   ],
   "source": [
    "strategy.calculate()"
   ]
  },
  {
   "cell_type": "code",
   "execution_count": 4,
   "metadata": {},
   "outputs": [
    {
     "name": "stdout",
     "output_type": "stream",
     "text": [
      "29.1 µs ± 1.23 µs per loop (mean ± std. dev. of 7 runs, 10000 loops each)\n"
     ]
    }
   ],
   "source": [
    "%timeit strategy.calculate()"
   ]
  }
 ],
 "metadata": {
  "kernelspec": {
   "display_name": "base",
   "language": "python",
   "name": "python3"
  },
  "language_info": {
   "codemirror_mode": {
    "name": "ipython",
    "version": 3
   },
   "file_extension": ".py",
   "mimetype": "text/x-python",
   "name": "python",
   "nbconvert_exporter": "python",
   "pygments_lexer": "ipython3",
   "version": "3.9.7"
  }
 },
 "nbformat": 4,
 "nbformat_minor": 2
}
