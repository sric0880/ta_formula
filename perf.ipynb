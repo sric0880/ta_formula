{
 "cells": [
  {
   "cell_type": "code",
   "execution_count": 1,
   "metadata": {},
   "outputs": [],
   "source": [
    "from mssubsys_server.ta_formula.indicators import *\n",
    "from test_data import test_data"
   ]
  },
  {
   "cell_type": "code",
   "execution_count": 1,
   "metadata": {},
   "outputs": [
    {
     "name": "stdout",
     "output_type": "stream",
     "text": [
      "[('mdsubsys_server.ctp', ['al2408', 'ag2412'], ('1m', '5m', '15m'))]\n",
      "279 µs ± 5.71 µs per loop (mean ± std. dev. of 7 runs, 1000 loops each)\n",
      "{'symbol': None, 'interval': '1m', 'open_long_condition': False, 'open_short_condition': False, 'close_long_condition': False, 'close_short_condition': False}\n"
     ]
    },
    {
     "name": "stderr",
     "output_type": "stream",
     "text": [
      "INFO:root:Mdsubsys client quit the grpc channel\n",
      "INFO:root:数据后台 mdsubsys_server.ctp 关闭\n"
     ]
    },
    {
     "name": "stdout",
     "output_type": "stream",
     "text": [
      "278 µs ± 4.67 µs per loop (mean ± std. dev. of 7 runs, 1000 loops each)\n",
      "{'symbol': None, 'interval': '1m', 'open_long_condition': False, 'open_short_condition': False, 'close_long_condition': False, 'close_short_condition': False}\n"
     ]
    }
   ],
   "source": [
    "import logging\n",
    "\n",
    "from mdsubsys_client.client import *\n",
    "from mssubsys_server.ta_formula import data_context, get_strategy_class\n",
    "from mssubsys_server.ta_formula.datasource import (AioDataBackend, DataBackend,\n",
    "                                                   close_all_backends,\n",
    "                                                   add_backend)\n",
    "\n",
    "logging.basicConfig(level='DEBUG')\n",
    "\n",
    "class MdsubsysDataBackend(DataBackend):\n",
    "    prefix = 'mdsubsys_server'\n",
    "\n",
    "    def __init__(self, name, config) -> None:\n",
    "        super().__init__(name, config)\n",
    "        self.client = init_client(config['ip'], config['port'])\n",
    "        self.bars = None\n",
    "\n",
    "    def prepare(self, symbols, intervals):\n",
    "        # 下载的K线或者Tick数据可以做缓存，避免多次调用重复下载\n",
    "        self.bars = self.client.get_bars(symbols=symbols, intervals=intervals)\n",
    "\n",
    "    def get_data(self, symbol, interval):\n",
    "        return self.bars[symbol][interval]\n",
    "\n",
    "    def release(self, symbols, intervals):\n",
    "        pass\n",
    "\n",
    "    def close(self):\n",
    "        self.client.close()\n",
    "\n",
    "# class MdsubsysDataBackend(AioDataBackend):\n",
    "\n",
    "#     def __init__(self, name, config) -> None:\n",
    "#         super().__init__(name, config)\n",
    "#         self.client = init_client(config['ip'], config['port'], on_bars_func=on_bars, is_asyncio=True)\n",
    "\n",
    "#     async def prepare(self, symbols, intervals):\n",
    "#         await self.client.subscribe_bars(symbols=symbols)\n",
    "#         while True:\n",
    "#             _last_ticking_bars = _init_ticking_bars(symbols, interval)\n",
    "#             if _last_ticking_bars:\n",
    "#                 break\n",
    "#             await asyncio.sleep(0.5)\n",
    "\n",
    "#     async def release(self, symbols, intervals):\n",
    "#         return super().release()\n",
    "\n",
    "#     async def close(self):\n",
    "#         pass\n",
    "\n",
    "request = {\n",
    "    \"datasources\": [[\"mdsubsys_server.ctp.ag2412\"], [\"mdsubsys_server.ctp.al2408\"]],\n",
    "    \"version\":\"v1_14F\",\n",
    "    \"strategy_name\":\"shortswingkiller\",\n",
    "    \"return_fields\": [\"open\", \"close\", \"CLOSE[-1]\"],\n",
    "    \"params\": {}\n",
    "}\n",
    "data_backends = []\n",
    "data_backends.append(add_backend(\"mdsubsys_server.ctp\", {\"ip\": \"192.168.2.9\", \"port\": 50051}))\n",
    "strategy_cls = get_strategy_class('mssubsys_server.strategies', request['strategy_name'], request['version'])\n",
    "strategy = strategy_cls(request['params'], request['return_fields'])\n",
    "\n",
    "%load_ext line_profiler\n",
    "\n",
    "with data_context(request['datasources'], strategy_cls._intervals) as datas_itr:\n",
    "    for datas_lst in datas_itr:\n",
    "        # %timeit strategy.calculate(datas_lst)\n",
    "        # print(strategy.calculate(datas_lst))\n",
    "        # %prun strategy.calculate(datas_lst)\n",
    "        # %lprun -f strategy.calculate strategy.calculate(datas_lst)\n",
    "\n",
    "        %timeit strategy.output(datas_lst)\n",
    "        print(strategy.output(datas_lst))\n",
    "\n",
    "close_all_backends()"
   ]
  }
 ],
 "metadata": {
  "interpreter": {
   "hash": "b3ba2566441a7c06988d0923437866b63cedc61552a5af99d1f4fb67d367b25f"
  },
  "kernelspec": {
   "display_name": "Python 3.9.7 ('base')",
   "language": "python",
   "name": "python3"
  },
  "language_info": {
   "codemirror_mode": {
    "name": "ipython",
    "version": 3
   },
   "file_extension": ".py",
   "mimetype": "text/x-python",
   "name": "python",
   "nbconvert_exporter": "python",
   "pygments_lexer": "ipython3",
   "version": "3.9.7"
  },
  "orig_nbformat": 4
 },
 "nbformat": 4,
 "nbformat_minor": 2
}
